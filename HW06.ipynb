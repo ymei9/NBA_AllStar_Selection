{
 "cells": [
  {
   "cell_type": "markdown",
   "metadata": {},
   "source": [
    "# HW06\n",
    "In HW06 we use web scraping of [List of S&P 500 companies](https://en.wikipedia.org/wiki/List_of_S%26P_500_companies) and [Yahoo Finance](https://finance.yahoo.com) to explore the S&P 500 companies.\n",
    "\n",
    "Please start by downloading (right-click, save as) [HW06.ipynb](http://pages.stat.wisc.edu/~jgillett/365/06/HW06.ipynb)."
   ]
  },
  {
   "cell_type": "markdown",
   "metadata": {},
   "source": [
    "Please budget time to run your HW06 on all 503 stocks in the S&P 500. My solution takes about 20 minutes; yours might take more or\n",
    "less time depending on your code efficiency and your network\n",
    "connection. My solution fails with a network timeout before\n",
    "processing all 503 stocks about 1/3 of the time. You may submit a\n",
    "solution that gets through only the first 50 stocks if you wish;\n",
    "this will cost a 1-point penalty. I recommend developing your code\n",
    "using about 3 stocks."
   ]
  },
  {
   "cell_type": "code",
   "execution_count": 2,
   "metadata": {},
   "outputs": [],
   "source": [
    "import numpy as np\n",
    "import pandas as pd\n",
    "import matplotlib.pyplot as plt\n",
    "import re\n",
    "import os"
   ]
  },
  {
   "cell_type": "markdown",
   "metadata": {},
   "source": [
    "## Yuxuan Mei, 9077739374"
   ]
  },
  {
   "cell_type": "markdown",
   "metadata": {},
   "source": [
    "## 1: Scrape the wikipedia page to get the S&P 500 stocks.\n",
    "Write a function get_SP500_wikipedia_data() that reads\n",
    "[List of S&P 500 companies](https://en.wikipedia.org/wiki/List_of_S%26P_500_companies) and\n",
    "returns a DataFrame with these columns, sorted by 'Symbol':\n",
    "- 'Symbol'\n",
    "- 'Security'\n",
    "- 'GICS Sector'\n",
    "- 'Headquarters Location'\n",
    "\n",
    "Hints:\n",
    "- To retrieve the tables on that page, use pd.read_html(). Then select the required table and columns.\n",
    "- To sort by 'Symbol', use df.sort_values(by='Symbol', ignore_index=True)."
   ]
  },
  {
   "cell_type": "code",
   "execution_count": 31,
   "metadata": {},
   "outputs": [],
   "source": [
    "def get_SP500_wikipedia_data():\n",
    "    url = 'https://en.wikipedia.org/wiki/List_of_S%26P_500_companies'\n",
    "    tables = pd.read_html(url)\n",
    "    df = pd.DataFrame(tables[0])\n",
    "    df = df[['Symbol','Security','GICS Sector','Headquarters Location']]\n",
    "    df = df.sort_values(by='Symbol', ignore_index=True)\n",
    "    return df"
   ]
  },
  {
   "cell_type": "markdown",
   "metadata": {},
   "source": [
    "Here is some test code for the function:"
   ]
  },
  {
   "cell_type": "code",
   "execution_count": 32,
   "metadata": {},
   "outputs": [
    {
     "data": {
      "text/html": [
       "<div>\n",
       "<style scoped>\n",
       "    .dataframe tbody tr th:only-of-type {\n",
       "        vertical-align: middle;\n",
       "    }\n",
       "\n",
       "    .dataframe tbody tr th {\n",
       "        vertical-align: top;\n",
       "    }\n",
       "\n",
       "    .dataframe thead th {\n",
       "        text-align: right;\n",
       "    }\n",
       "</style>\n",
       "<table border=\"1\" class=\"dataframe\">\n",
       "  <thead>\n",
       "    <tr style=\"text-align: right;\">\n",
       "      <th></th>\n",
       "      <th>Symbol</th>\n",
       "      <th>Security</th>\n",
       "      <th>GICS Sector</th>\n",
       "      <th>Headquarters Location</th>\n",
       "    </tr>\n",
       "  </thead>\n",
       "  <tbody>\n",
       "    <tr>\n",
       "      <th>0</th>\n",
       "      <td>A</td>\n",
       "      <td>Agilent Technologies</td>\n",
       "      <td>Health Care</td>\n",
       "      <td>Santa Clara, California</td>\n",
       "    </tr>\n",
       "    <tr>\n",
       "      <th>1</th>\n",
       "      <td>AAL</td>\n",
       "      <td>American Airlines Group</td>\n",
       "      <td>Industrials</td>\n",
       "      <td>Fort Worth, Texas</td>\n",
       "    </tr>\n",
       "    <tr>\n",
       "      <th>2</th>\n",
       "      <td>AAP</td>\n",
       "      <td>Advance Auto Parts</td>\n",
       "      <td>Consumer Discretionary</td>\n",
       "      <td>Raleigh, North Carolina</td>\n",
       "    </tr>\n",
       "    <tr>\n",
       "      <th>3</th>\n",
       "      <td>AAPL</td>\n",
       "      <td>Apple Inc.</td>\n",
       "      <td>Information Technology</td>\n",
       "      <td>Cupertino, California</td>\n",
       "    </tr>\n",
       "    <tr>\n",
       "      <th>4</th>\n",
       "      <td>ABBV</td>\n",
       "      <td>AbbVie Inc.</td>\n",
       "      <td>Health Care</td>\n",
       "      <td>North Chicago, Illinois</td>\n",
       "    </tr>\n",
       "    <tr>\n",
       "      <th>...</th>\n",
       "      <td>...</td>\n",
       "      <td>...</td>\n",
       "      <td>...</td>\n",
       "      <td>...</td>\n",
       "    </tr>\n",
       "    <tr>\n",
       "      <th>500</th>\n",
       "      <td>YUM</td>\n",
       "      <td>Yum! Brands Inc</td>\n",
       "      <td>Consumer Discretionary</td>\n",
       "      <td>Louisville, Kentucky</td>\n",
       "    </tr>\n",
       "    <tr>\n",
       "      <th>501</th>\n",
       "      <td>ZBH</td>\n",
       "      <td>Zimmer Biomet</td>\n",
       "      <td>Health Care</td>\n",
       "      <td>Warsaw, Indiana</td>\n",
       "    </tr>\n",
       "    <tr>\n",
       "      <th>502</th>\n",
       "      <td>ZBRA</td>\n",
       "      <td>Zebra Technologies</td>\n",
       "      <td>Information Technology</td>\n",
       "      <td>Lincolnshire, Illinois</td>\n",
       "    </tr>\n",
       "    <tr>\n",
       "      <th>503</th>\n",
       "      <td>ZION</td>\n",
       "      <td>Zions Bancorp</td>\n",
       "      <td>Financials</td>\n",
       "      <td>Salt Lake City, Utah</td>\n",
       "    </tr>\n",
       "    <tr>\n",
       "      <th>504</th>\n",
       "      <td>ZTS</td>\n",
       "      <td>Zoetis</td>\n",
       "      <td>Health Care</td>\n",
       "      <td>Parsippany, New Jersey</td>\n",
       "    </tr>\n",
       "  </tbody>\n",
       "</table>\n",
       "<p>505 rows × 4 columns</p>\n",
       "</div>"
      ],
      "text/plain": [
       "    Symbol                 Security             GICS Sector  \\\n",
       "0        A     Agilent Technologies             Health Care   \n",
       "1      AAL  American Airlines Group             Industrials   \n",
       "2      AAP       Advance Auto Parts  Consumer Discretionary   \n",
       "3     AAPL               Apple Inc.  Information Technology   \n",
       "4     ABBV              AbbVie Inc.             Health Care   \n",
       "..     ...                      ...                     ...   \n",
       "500    YUM          Yum! Brands Inc  Consumer Discretionary   \n",
       "501    ZBH            Zimmer Biomet             Health Care   \n",
       "502   ZBRA       Zebra Technologies  Information Technology   \n",
       "503   ZION            Zions Bancorp              Financials   \n",
       "504    ZTS                   Zoetis             Health Care   \n",
       "\n",
       "       Headquarters Location  \n",
       "0    Santa Clara, California  \n",
       "1          Fort Worth, Texas  \n",
       "2    Raleigh, North Carolina  \n",
       "3      Cupertino, California  \n",
       "4    North Chicago, Illinois  \n",
       "..                       ...  \n",
       "500     Louisville, Kentucky  \n",
       "501          Warsaw, Indiana  \n",
       "502   Lincolnshire, Illinois  \n",
       "503     Salt Lake City, Utah  \n",
       "504   Parsippany, New Jersey  \n",
       "\n",
       "[505 rows x 4 columns]"
      ]
     },
     "execution_count": 32,
     "metadata": {},
     "output_type": "execute_result"
    }
   ],
   "source": [
    "df = get_SP500_wikipedia_data()\n",
    "DPZ = df[df['Symbol'] == 'DPZ']\n",
    "assert DPZ['Security'].iloc[0] == \"Domino's Pizza\"\n",
    "assert DPZ['GICS Sector'].iloc[0] == 'Consumer Discretionary'\n",
    "assert DPZ['Headquarters Location'].iloc[0] == 'Ann Arbor, Michigan'\n",
    "df"
   ]
  },
  {
   "cell_type": "markdown",
   "metadata": {},
   "source": [
    "## 2: Scrape information for a single stock from Yahoo Finance.\n",
    "Write a function get_stock_data(symbol) that takes a stock symbol,\n",
    "scrapes that symbol's [Yahoo Finance](https://finance.yahoo.com) page,\n",
    "and returns a dictionary containing:\n",
    "- 'Symbol': the passed-in symbol\n",
    "- 'Market Cap'\n",
    "- 'Beta (5Y Monthly)'\n",
    "- 'Revenue (ttm)', key-statistics tab\n",
    "- 'Total Cash (mrq)', key-statistics tab\n",
    "- 'Avg Vol (3 month) 3', key-statistics tab (the last '3' indicates a footnote)\n",
    "- '% Held by Insiders 1', key-statistics tab\n",
    "\n",
    "Hint: For symbol='DPZ',\n",
    "- 'Market Cap' and 'Beta (5Y Monthly)' are on the Summary tab at https://finance.yahoo.com/quote/DPZ. Use pd.read_html() to read the tables on this tab.\n",
    "- 'Revenue (ttm)', 'Total Cash (mrq)', 'Avg Vol (3 month) 3', and '% Held by Insiders 1' are all on the Statistics tab at https://finance.yahoo.com/quote/DPZ/key-statistics. Use pd.read_html() to read the tables on this tab."
   ]
  },
  {
   "cell_type": "code",
   "execution_count": 104,
   "metadata": {},
   "outputs": [],
   "source": [
    "def get_stock_data(symbol):\n",
    "    url1 = 'https://finance.yahoo.com/quote/' + symbol   \n",
    "    url2 = 'https://finance.yahoo.com/quote/' + symbol + '/key-statistics'\n",
    "    table1 = pd.read_html(url1)\n",
    "    table2 = pd.read_html(url2)\n",
    "    symbol = {'Symbol': symbol, \n",
    "         'Market Cap': table1[1].iloc[0, 1], \n",
    "         'Beta (5Y Monthly)]': table1[1].iloc[1, 1], \n",
    "         'Revenue (ttm)': table2[7].iloc[0,1], \n",
    "         'Total Cash (mrq)': table2[8].iloc[0,1], \n",
    "         'Avg Vol (3 month)': table2[2].iloc[0, 1], \n",
    "         '% Held by Insiders 1': table2[2].iloc[5, 1]}\n",
    "    return symbol"
   ]
  },
  {
   "cell_type": "markdown",
   "metadata": {},
   "source": [
    "Here is some test code for the function:"
   ]
  },
  {
   "cell_type": "code",
   "execution_count": 105,
   "metadata": {
    "scrolled": true
   },
   "outputs": [
    {
     "name": "stdout",
     "output_type": "stream",
     "text": [
      "AMZN['Market Cap'] was 1.702T on 4/15/21. Now it is 1.709T\n",
      "AMZN['Revenue (ttm)'] was '386.06B' on 4/15/21. Now it is 84.4B\n",
      "AMZN['Total Cash (mrq)'] == '84.4B' on 4/15/21. Now it is 66.06B\n",
      "AMZN['Avg Vol (3 month)'] == '3.58M' on 4/15/21. Now it is nan\n",
      "AMZN['% Held by Insiders 1'] == '14.13%' on 4/15/21. Now it is 0.00%\n"
     ]
    }
   ],
   "source": [
    "AMZN = get_stock_data(symbol='AMZN')\n",
    "assert AMZN['Symbol'] == 'AMZN'\n",
    "# I didn't make the following several print() statements assert\n",
    "# statements because some of the values change. I would expect\n",
    "# today's values to be reasonably close to the 4/15/21 values.\n",
    "print(f\"AMZN['Market Cap'] was 1.702T on 4/15/21. Now it is {AMZN['Market Cap']}\")\n",
    "print(f\"AMZN['Revenue (ttm)'] was '386.06B' on 4/15/21. Now it is {AMZN['Revenue (ttm)']}\")\n",
    "print(f\"AMZN['Total Cash (mrq)'] == '84.4B' on 4/15/21. Now it is {AMZN['Total Cash (mrq)']}\")\n",
    "print(f\"AMZN['Avg Vol (3 month)'] == '3.58M' on 4/15/21. Now it is {AMZN['Avg Vol (3 month)']}\")\n",
    "print(f\"AMZN['% Held by Insiders 1'] == '14.13%' on 4/15/21. Now it is {AMZN['% Held by Insiders 1']}\")"
   ]
  },
  {
   "cell_type": "markdown",
   "metadata": {},
   "source": [
    "## 3: Scrape Yahoo Finance for all the S&P 500 stocks.\n",
    "Write a function get_yahoo_finance_data(symbols) that:\n",
    "- calls get_stock_data(symbol) on each of a list of symbols (we will call it on the S&P 500 list from the wikipedia page, but you should write it to accept any list)\n",
    "- accumulates a list of dictionaries, one per symbol\n",
    "- calls pd.DataFrame() on that list of dictionaries to make a DataFrame\n",
    "- returns the DataFrame(), whose columns should be those mentioned in get_stock_data(symbol)\n",
    "\n",
    "Hint: You will need to replace '.' by '-' in any symbol containing '.' to be able to read that symbol's Yahoo Finance page."
   ]
  },
  {
   "cell_type": "code",
   "execution_count": 116,
   "metadata": {},
   "outputs": [],
   "source": [
    "def get_yahoo_finance_data(symbols):\n",
    "    list1 = []\n",
    "    for i in range(len(symbols)):\n",
    "        symbols[i]=symbols[i].replace('.','-')\n",
    "        list1.append(get_stock_data(symbol = symbols[i]))\n",
    "    dictionaries = pd.DataFrame(list1)\n",
    "    return dictionaries"
   ]
  },
  {
   "cell_type": "markdown",
   "metadata": {},
   "source": [
    "Here is some test code for the function:"
   ]
  },
  {
   "cell_type": "code",
   "execution_count": 117,
   "metadata": {},
   "outputs": [
    {
     "data": {
      "text/html": [
       "<div>\n",
       "<style scoped>\n",
       "    .dataframe tbody tr th:only-of-type {\n",
       "        vertical-align: middle;\n",
       "    }\n",
       "\n",
       "    .dataframe tbody tr th {\n",
       "        vertical-align: top;\n",
       "    }\n",
       "\n",
       "    .dataframe thead th {\n",
       "        text-align: right;\n",
       "    }\n",
       "</style>\n",
       "<table border=\"1\" class=\"dataframe\">\n",
       "  <thead>\n",
       "    <tr style=\"text-align: right;\">\n",
       "      <th></th>\n",
       "      <th>Symbol</th>\n",
       "      <th>Market Cap</th>\n",
       "      <th>Beta (5Y Monthly)]</th>\n",
       "      <th>Revenue (ttm)</th>\n",
       "      <th>Total Cash (mrq)</th>\n",
       "      <th>Avg Vol (3 month)</th>\n",
       "      <th>% Held by Insiders 1</th>\n",
       "    </tr>\n",
       "  </thead>\n",
       "  <tbody>\n",
       "    <tr>\n",
       "      <th>0</th>\n",
       "      <td>AMZN</td>\n",
       "      <td>1.75T</td>\n",
       "      <td>1.12</td>\n",
       "      <td>386.06B</td>\n",
       "      <td>84.4B</td>\n",
       "      <td>3.49M</td>\n",
       "      <td>14.07%</td>\n",
       "    </tr>\n",
       "    <tr>\n",
       "      <th>1</th>\n",
       "      <td>DPZ</td>\n",
       "      <td>16.14B</td>\n",
       "      <td>0.45</td>\n",
       "      <td>4.12B</td>\n",
       "      <td>168.82M</td>\n",
       "      <td>636.52k</td>\n",
       "      <td>0.71%</td>\n",
       "    </tr>\n",
       "    <tr>\n",
       "      <th>2</th>\n",
       "      <td>GME</td>\n",
       "      <td>12.469B</td>\n",
       "      <td>-1.82</td>\n",
       "      <td>5.09B</td>\n",
       "      <td>508.5M</td>\n",
       "      <td>27.72M</td>\n",
       "      <td>19.42%</td>\n",
       "    </tr>\n",
       "  </tbody>\n",
       "</table>\n",
       "</div>"
      ],
      "text/plain": [
       "  Symbol Market Cap Beta (5Y Monthly)] Revenue (ttm) Total Cash (mrq)  \\\n",
       "0   AMZN      1.75T               1.12       386.06B            84.4B   \n",
       "1    DPZ     16.14B               0.45         4.12B          168.82M   \n",
       "2    GME    12.469B              -1.82         5.09B           508.5M   \n",
       "\n",
       "  Avg Vol (3 month) % Held by Insiders 1  \n",
       "0             3.49M               14.07%  \n",
       "1           636.52k                0.71%  \n",
       "2            27.72M               19.42%  "
      ]
     },
     "execution_count": 117,
     "metadata": {},
     "output_type": "execute_result"
    }
   ],
   "source": [
    "get_yahoo_finance_data(symbols=['AMZN', 'DPZ', 'GME'])"
   ]
  },
  {
   "cell_type": "markdown",
   "metadata": {},
   "source": [
    "## 4: Write a utility function to convert dollar values represented as strings (which do not sort correctly, e.g. '1B' sorts before '1k' and '10' sorts before '9') to dollar values represented as floats.\n",
    "Write a function money_string_to_number(s) according to its docstring, below. You will need it, below, when processing DataFrame columns that contain money amounts like '3.4B' (3.4 billion dollars) and '7.8k' (7800 dollars)."
   ]
  },
  {
   "cell_type": "code",
   "execution_count": 126,
   "metadata": {},
   "outputs": [],
   "source": [
    "def money_string_to_number(s):\n",
    "    \"\"\"Returns float from money string s like '1.2T', '3.4B', '5.6M', or '7.8k'.\n",
    "\n",
    "       To handle nan as an input, it first converts s to str(s).\n",
    "       Then it makes these substitutions:\n",
    "        'T' -> 'e12' (trillion)\n",
    "        'B' -> 'e9' (billion)\n",
    "        'M' -> 'e6' (million)\n",
    "        'k' -> 'e3' (thousand)\n",
    "       Then it uses float() to convert the string to float.\n",
    "    \"\"\"\n",
    "    s=str(s)\n",
    "    s=s.replace('T','e12')\n",
    "    s=s.replace('B','e9')\n",
    "    s=s.replace('M','e6')\n",
    "    s=s.replace('k','e3')\n",
    "    s=float(s)\n",
    "    return s"
   ]
  },
  {
   "cell_type": "markdown",
   "metadata": {},
   "source": [
    "Here is some test code for the function:"
   ]
  },
  {
   "cell_type": "code",
   "execution_count": 125,
   "metadata": {},
   "outputs": [],
   "source": [
    "inputs = ('1.2T', '3.4B', '5.6M', '7.8k')\n",
    "outputs = [money_string_to_number(s) for s in inputs]\n",
    "correct = [1.2e12, 3.4e9, 5.6e6, 7.8e3]\n",
    "assert np.allclose(outputs, correct)\n",
    "assert np.isnan(money_string_to_number(np.nan))"
   ]
  },
  {
   "cell_type": "markdown",
   "metadata": {},
   "source": [
    "## 5: Use get_SP500_wikipedia_data() and get_yahoo_finance_data() to make a DataFrame suitable for exploring the S&P 500 stocks.\n",
    "Assemble a single DataFrame to use for exploring the S&P 500 stocks:\n",
    "- Call df_wiki = get_SP500_wikipedia_data() to get a DataFrame from the wikipedia S&P 500 page.\n",
    "- Call df_yahoo = get_yahoo_finance_data() on the 'Symbol' column from df_wiki.\n",
    "- Call df = df_wiki.merge(right=df_yahoo, on='Symbol') to merge your two DataFrames into one.\n",
    "\n",
    "Hint: While developing your code, use only the first three rows of df_wiki."
   ]
  },
  {
   "cell_type": "code",
   "execution_count": 136,
   "metadata": {},
   "outputs": [],
   "source": [
    "df_wiki = get_SP500_wikipedia_data()\n",
    "df_yahoo = get_yahoo_finance_data(symbols = df_wiki['Symbol'])\n",
    "df = df_wiki.merge(right=df_yahoo, on='Symbol')"
   ]
  },
  {
   "cell_type": "markdown",
   "metadata": {},
   "source": [
    "Here is some test code for the previous block of code:"
   ]
  },
  {
   "cell_type": "code",
   "execution_count": 139,
   "metadata": {},
   "outputs": [
    {
     "data": {
      "text/html": [
       "<div>\n",
       "<style scoped>\n",
       "    .dataframe tbody tr th:only-of-type {\n",
       "        vertical-align: middle;\n",
       "    }\n",
       "\n",
       "    .dataframe tbody tr th {\n",
       "        vertical-align: top;\n",
       "    }\n",
       "\n",
       "    .dataframe thead th {\n",
       "        text-align: right;\n",
       "    }\n",
       "</style>\n",
       "<table border=\"1\" class=\"dataframe\">\n",
       "  <thead>\n",
       "    <tr style=\"text-align: right;\">\n",
       "      <th></th>\n",
       "      <th>Symbol</th>\n",
       "      <th>Security</th>\n",
       "      <th>GICS Sector</th>\n",
       "      <th>Headquarters Location</th>\n",
       "      <th>Market Cap</th>\n",
       "      <th>Beta (5Y Monthly)]</th>\n",
       "      <th>Revenue (ttm)</th>\n",
       "      <th>Total Cash (mrq)</th>\n",
       "      <th>Avg Vol (3 month)</th>\n",
       "      <th>% Held by Insiders 1</th>\n",
       "    </tr>\n",
       "  </thead>\n",
       "  <tbody>\n",
       "    <tr>\n",
       "      <th>0</th>\n",
       "      <td>A</td>\n",
       "      <td>Agilent Technologies</td>\n",
       "      <td>Health Care</td>\n",
       "      <td>Santa Clara, California</td>\n",
       "      <td>40.875B</td>\n",
       "      <td>1.01</td>\n",
       "      <td>1.33B</td>\n",
       "      <td>1.22B</td>\n",
       "      <td>0.78</td>\n",
       "      <td>28.23%</td>\n",
       "    </tr>\n",
       "    <tr>\n",
       "      <th>1</th>\n",
       "      <td>AAL</td>\n",
       "      <td>American Airlines Group</td>\n",
       "      <td>Industrials</td>\n",
       "      <td>Fort Worth, Texas</td>\n",
       "      <td>13.661B</td>\n",
       "      <td>1.93</td>\n",
       "      <td>14.04B</td>\n",
       "      <td>-6.2B</td>\n",
       "      <td>NaN</td>\n",
       "      <td>0.00%</td>\n",
       "    </tr>\n",
       "    <tr>\n",
       "      <th>2</th>\n",
       "      <td>AAP</td>\n",
       "      <td>Advance Auto Parts</td>\n",
       "      <td>Consumer Discretionary</td>\n",
       "      <td>Raleigh, North Carolina</td>\n",
       "      <td>13.097B</td>\n",
       "      <td>1.36</td>\n",
       "      <td>834.99M</td>\n",
       "      <td>969.69M</td>\n",
       "      <td>4</td>\n",
       "      <td>14.01%</td>\n",
       "    </tr>\n",
       "    <tr>\n",
       "      <th>3</th>\n",
       "      <td>AAPL</td>\n",
       "      <td>Apple Inc.</td>\n",
       "      <td>Information Technology</td>\n",
       "      <td>Cupertino, California</td>\n",
       "      <td>2.241T</td>\n",
       "      <td>1.29</td>\n",
       "      <td>107.16B</td>\n",
       "      <td>73.22B</td>\n",
       "      <td>3.28</td>\n",
       "      <td>24.08%</td>\n",
       "    </tr>\n",
       "    <tr>\n",
       "      <th>4</th>\n",
       "      <td>ABBV</td>\n",
       "      <td>AbbVie Inc.</td>\n",
       "      <td>Health Care</td>\n",
       "      <td>North Chicago, Illinois</td>\n",
       "      <td>195.702B</td>\n",
       "      <td>0.81</td>\n",
       "      <td>8.49B</td>\n",
       "      <td>17.59B</td>\n",
       "      <td>5.2</td>\n",
       "      <td>173.53%</td>\n",
       "    </tr>\n",
       "  </tbody>\n",
       "</table>\n",
       "</div>"
      ],
      "text/plain": [
       "  Symbol                 Security             GICS Sector  \\\n",
       "0      A     Agilent Technologies             Health Care   \n",
       "1    AAL  American Airlines Group             Industrials   \n",
       "2    AAP       Advance Auto Parts  Consumer Discretionary   \n",
       "3   AAPL               Apple Inc.  Information Technology   \n",
       "4   ABBV              AbbVie Inc.             Health Care   \n",
       "\n",
       "     Headquarters Location Market Cap Beta (5Y Monthly)] Revenue (ttm)  \\\n",
       "0  Santa Clara, California    40.875B               1.01         1.33B   \n",
       "1        Fort Worth, Texas    13.661B               1.93        14.04B   \n",
       "2  Raleigh, North Carolina    13.097B               1.36       834.99M   \n",
       "3    Cupertino, California     2.241T               1.29       107.16B   \n",
       "4  North Chicago, Illinois   195.702B               0.81         8.49B   \n",
       "\n",
       "  Total Cash (mrq) Avg Vol (3 month) % Held by Insiders 1  \n",
       "0            1.22B              0.78               28.23%  \n",
       "1            -6.2B               NaN                0.00%  \n",
       "2          969.69M                 4               14.01%  \n",
       "3           73.22B              3.28               24.08%  \n",
       "4           17.59B               5.2              173.53%  "
      ]
     },
     "execution_count": 139,
     "metadata": {},
     "output_type": "execute_result"
    }
   ],
   "source": [
    "df.head(n=5)"
   ]
  },
  {
   "cell_type": "markdown",
   "metadata": {},
   "source": [
    "## 6: Use your DataFrame, df, to explore the S&P 500 companies and answer these questions.\n",
    "\n",
    "Hint: Each of these questions requires only a few lines of code."
   ]
  },
  {
   "cell_type": "markdown",
   "metadata": {},
   "source": [
    "### 6a: Make a barplot showing the number of companies in each of the 11 sectors in the 'GICS Sector' column.\n",
    "\n",
    "Hint: Rename the columns with long names so that they have reasonable names. e.g. Change 'Information Technology' to 'IT', 'Consumer Discretionary' to 'Discretionary', and so on."
   ]
  },
  {
   "cell_type": "code",
   "execution_count": 198,
   "metadata": {},
   "outputs": [
    {
     "data": {
      "image/png": "[encoded data removed]",
      "text/plain": [
       "<Figure size 432x288 with 1 Axes>"
      ]
     },
     "metadata": {
      "needs_background": "light"
     },
     "output_type": "display_data"
    }
   ],
   "source": [
    "sector = df.groupby('GICS Sector').count()\n",
    "plt.bar(sector.index,sector['Symbol'])\n",
    "plt.xticks(rotation=90)\n",
    "plt.title('GICS Sector')\n",
    "plt.show()"
   ]
  },
  {
   "cell_type": "markdown",
   "metadata": {},
   "source": [
    "### 6b: List the top ten companies according to 'Market Cap number'.\n",
    "\n",
    "Hint: Do not use df['Market Cap'] directly, because its values are strings like '4.3k'\n",
    "that will not sort correctly. Instead, use a list comprehension to call\n",
    "money_string_to_number() on each value in df['Market Cap'] to make a new column,\n",
    "like this:\n",
    "\n",
    "df['Market Cap number'] = [money_string_to_number(s) for s in df['Market Cap']]   \n",
    "\n",
    "Include the 'Symbol', 'Security', and 'Market Cap number' columns in your output."
   ]
  },
  {
   "cell_type": "code",
   "execution_count": 161,
   "metadata": {},
   "outputs": [
    {
     "data": {
      "text/html": [
       "<div>\n",
       "<style scoped>\n",
       "    .dataframe tbody tr th:only-of-type {\n",
       "        vertical-align: middle;\n",
       "    }\n",
       "\n",
       "    .dataframe tbody tr th {\n",
       "        vertical-align: top;\n",
       "    }\n",
       "\n",
       "    .dataframe thead th {\n",
       "        text-align: right;\n",
       "    }\n",
       "</style>\n",
       "<table border=\"1\" class=\"dataframe\">\n",
       "  <thead>\n",
       "    <tr style=\"text-align: right;\">\n",
       "      <th></th>\n",
       "      <th>Symbol</th>\n",
       "      <th>Security</th>\n",
       "      <th>Market Cap number</th>\n",
       "    </tr>\n",
       "  </thead>\n",
       "  <tbody>\n",
       "    <tr>\n",
       "      <th>3</th>\n",
       "      <td>AAPL</td>\n",
       "      <td>Apple Inc.</td>\n",
       "      <td>2.241000e+12</td>\n",
       "    </tr>\n",
       "    <tr>\n",
       "      <th>318</th>\n",
       "      <td>MSFT</td>\n",
       "      <td>Microsoft Corp.</td>\n",
       "      <td>1.902000e+12</td>\n",
       "    </tr>\n",
       "    <tr>\n",
       "      <th>35</th>\n",
       "      <td>AMZN</td>\n",
       "      <td>Amazon.com Inc.</td>\n",
       "      <td>1.750000e+12</td>\n",
       "    </tr>\n",
       "    <tr>\n",
       "      <th>202</th>\n",
       "      <td>GOOG</td>\n",
       "      <td>Alphabet Inc. (Class C)</td>\n",
       "      <td>1.631000e+12</td>\n",
       "    </tr>\n",
       "    <tr>\n",
       "      <th>203</th>\n",
       "      <td>GOOGL</td>\n",
       "      <td>Alphabet Inc. (Class A)</td>\n",
       "      <td>1.620000e+12</td>\n",
       "    </tr>\n",
       "    <tr>\n",
       "      <th>176</th>\n",
       "      <td>FB</td>\n",
       "      <td>Facebook, Inc.</td>\n",
       "      <td>9.362240e+11</td>\n",
       "    </tr>\n",
       "    <tr>\n",
       "      <th>445</th>\n",
       "      <td>TSLA</td>\n",
       "      <td>Tesla, Inc.</td>\n",
       "      <td>6.498210e+11</td>\n",
       "    </tr>\n",
       "    <tr>\n",
       "      <th>70</th>\n",
       "      <td>BRK-B</td>\n",
       "      <td>Berkshire Hathaway</td>\n",
       "      <td>6.380250e+11</td>\n",
       "    </tr>\n",
       "    <tr>\n",
       "      <th>465</th>\n",
       "      <td>V</td>\n",
       "      <td>Visa Inc.</td>\n",
       "      <td>5.222410e+11</td>\n",
       "    </tr>\n",
       "    <tr>\n",
       "      <th>257</th>\n",
       "      <td>JPM</td>\n",
       "      <td>JPMorgan Chase &amp; Co.</td>\n",
       "      <td>4.697760e+11</td>\n",
       "    </tr>\n",
       "  </tbody>\n",
       "</table>\n",
       "</div>"
      ],
      "text/plain": [
       "    Symbol                 Security  Market Cap number\n",
       "3     AAPL               Apple Inc.       2.241000e+12\n",
       "318   MSFT          Microsoft Corp.       1.902000e+12\n",
       "35    AMZN          Amazon.com Inc.       1.750000e+12\n",
       "202   GOOG  Alphabet Inc. (Class C)       1.631000e+12\n",
       "203  GOOGL  Alphabet Inc. (Class A)       1.620000e+12\n",
       "176     FB           Facebook, Inc.       9.362240e+11\n",
       "445   TSLA              Tesla, Inc.       6.498210e+11\n",
       "70   BRK-B       Berkshire Hathaway       6.380250e+11\n",
       "465      V                Visa Inc.       5.222410e+11\n",
       "257    JPM     JPMorgan Chase & Co.       4.697760e+11"
      ]
     },
     "execution_count": 161,
     "metadata": {},
     "output_type": "execute_result"
    }
   ],
   "source": [
    "df['Market Cap number'] = [money_string_to_number(s) for s in df['Market Cap']]\n",
    "Top_10_cap = df.sort_values('Market Cap number', ascending = False)[0:10]\n",
    "Top_10_cap = Top_10_cap[['Symbol', 'Security', 'Market Cap number']]\n",
    "Top_10_cap"
   ]
  },
  {
   "cell_type": "markdown",
   "metadata": {},
   "source": [
    "### 6b: List the top ten companies according to 'Revenue (ttm) number'.\n",
    "\n",
    "Hint: Use money_string_to_number() again to make a new column of floats.\n",
    "\n",
    "Include the 'Symbol', 'Security', and 'Revenue (ttm) number' columns in your output.#   - 'Revenue (ttm)'"
   ]
  },
  {
   "cell_type": "code",
   "execution_count": 164,
   "metadata": {},
   "outputs": [
    {
     "data": {
      "text/html": [
       "<div>\n",
       "<style scoped>\n",
       "    .dataframe tbody tr th:only-of-type {\n",
       "        vertical-align: middle;\n",
       "    }\n",
       "\n",
       "    .dataframe tbody tr th {\n",
       "        vertical-align: top;\n",
       "    }\n",
       "\n",
       "    .dataframe thead th {\n",
       "        text-align: right;\n",
       "    }\n",
       "</style>\n",
       "<table border=\"1\" class=\"dataframe\">\n",
       "  <thead>\n",
       "    <tr style=\"text-align: right;\">\n",
       "      <th></th>\n",
       "      <th>Symbol</th>\n",
       "      <th>Security</th>\n",
       "      <th>Revenue (ttm) number</th>\n",
       "    </tr>\n",
       "  </thead>\n",
       "  <tbody>\n",
       "    <tr>\n",
       "      <th>257</th>\n",
       "      <td>JPM</td>\n",
       "      <td>JPMorgan Chase &amp; Co.</td>\n",
       "      <td>1.530000e+12</td>\n",
       "    </tr>\n",
       "    <tr>\n",
       "      <th>74</th>\n",
       "      <td>C</td>\n",
       "      <td>Citigroup Inc.</td>\n",
       "      <td>1.000000e+12</td>\n",
       "    </tr>\n",
       "    <tr>\n",
       "      <th>55</th>\n",
       "      <td>BAC</td>\n",
       "      <td>Bank of America Corp</td>\n",
       "      <td>9.158900e+11</td>\n",
       "    </tr>\n",
       "    <tr>\n",
       "      <th>208</th>\n",
       "      <td>GS</td>\n",
       "      <td>Goldman Sachs Group</td>\n",
       "      <td>5.660000e+11</td>\n",
       "    </tr>\n",
       "    <tr>\n",
       "      <th>316</th>\n",
       "      <td>MS</td>\n",
       "      <td>Morgan Stanley</td>\n",
       "      <td>5.148700e+11</td>\n",
       "    </tr>\n",
       "    <tr>\n",
       "      <th>483</th>\n",
       "      <td>WFC</td>\n",
       "      <td>Wells Fargo</td>\n",
       "      <td>4.644500e+11</td>\n",
       "    </tr>\n",
       "    <tr>\n",
       "      <th>63</th>\n",
       "      <td>BK</td>\n",
       "      <td>The Bank of New York Mellon</td>\n",
       "      <td>2.004200e+11</td>\n",
       "    </tr>\n",
       "    <tr>\n",
       "      <th>70</th>\n",
       "      <td>BRK-B</td>\n",
       "      <td>Berkshire Hathaway</td>\n",
       "      <td>1.382900e+11</td>\n",
       "    </tr>\n",
       "    <tr>\n",
       "      <th>203</th>\n",
       "      <td>GOOGL</td>\n",
       "      <td>Alphabet Inc. (Class A)</td>\n",
       "      <td>1.351000e+11</td>\n",
       "    </tr>\n",
       "    <tr>\n",
       "      <th>202</th>\n",
       "      <td>GOOG</td>\n",
       "      <td>Alphabet Inc. (Class C)</td>\n",
       "      <td>1.351000e+11</td>\n",
       "    </tr>\n",
       "  </tbody>\n",
       "</table>\n",
       "</div>"
      ],
      "text/plain": [
       "    Symbol                     Security  Revenue (ttm) number\n",
       "257    JPM         JPMorgan Chase & Co.          1.530000e+12\n",
       "74       C               Citigroup Inc.          1.000000e+12\n",
       "55     BAC         Bank of America Corp          9.158900e+11\n",
       "208     GS          Goldman Sachs Group          5.660000e+11\n",
       "316     MS               Morgan Stanley          5.148700e+11\n",
       "483    WFC                  Wells Fargo          4.644500e+11\n",
       "63      BK  The Bank of New York Mellon          2.004200e+11\n",
       "70   BRK-B           Berkshire Hathaway          1.382900e+11\n",
       "203  GOOGL      Alphabet Inc. (Class A)          1.351000e+11\n",
       "202   GOOG      Alphabet Inc. (Class C)          1.351000e+11"
      ]
     },
     "execution_count": 164,
     "metadata": {},
     "output_type": "execute_result"
    }
   ],
   "source": [
    "df['Revenue (ttm) number'] = [money_string_to_number(s) for s in df['Revenue (ttm)']]\n",
    "Top_10_rev = df.sort_values('Revenue (ttm) number', ascending = False)[0:10]\n",
    "Top_10_rev = Top_10_rev[['Symbol', 'Security', 'Revenue (ttm) number']]\n",
    "Top_10_rev"
   ]
  },
  {
   "cell_type": "markdown",
   "metadata": {},
   "source": [
    "### 6c: List the top ten companies according to 'Total Cash (mrq) number'.\n",
    "\n",
    "Hint: Use money_string_to_number() again to make a new column of floats.\n",
    "\n",
    "Include the 'Symbol', 'Security', and 'Total Cash (mrq) number' columns in your output."
   ]
  },
  {
   "cell_type": "code",
   "execution_count": 166,
   "metadata": {},
   "outputs": [
    {
     "data": {
      "text/html": [
       "<div>\n",
       "<style scoped>\n",
       "    .dataframe tbody tr th:only-of-type {\n",
       "        vertical-align: middle;\n",
       "    }\n",
       "\n",
       "    .dataframe tbody tr th {\n",
       "        vertical-align: top;\n",
       "    }\n",
       "\n",
       "    .dataframe thead th {\n",
       "        text-align: right;\n",
       "    }\n",
       "</style>\n",
       "<table border=\"1\" class=\"dataframe\">\n",
       "  <thead>\n",
       "    <tr style=\"text-align: right;\">\n",
       "      <th></th>\n",
       "      <th>Symbol</th>\n",
       "      <th>Security</th>\n",
       "      <th>Total Cash (mrq) number</th>\n",
       "    </tr>\n",
       "  </thead>\n",
       "  <tbody>\n",
       "    <tr>\n",
       "      <th>3</th>\n",
       "      <td>AAPL</td>\n",
       "      <td>Apple Inc.</td>\n",
       "      <td>7.322000e+10</td>\n",
       "    </tr>\n",
       "    <tr>\n",
       "      <th>202</th>\n",
       "      <td>GOOG</td>\n",
       "      <td>Alphabet Inc. (Class C)</td>\n",
       "      <td>7.296000e+10</td>\n",
       "    </tr>\n",
       "    <tr>\n",
       "      <th>203</th>\n",
       "      <td>GOOGL</td>\n",
       "      <td>Alphabet Inc. (Class A)</td>\n",
       "      <td>7.296000e+10</td>\n",
       "    </tr>\n",
       "    <tr>\n",
       "      <th>318</th>\n",
       "      <td>MSFT</td>\n",
       "      <td>Microsoft Corp.</td>\n",
       "      <td>7.270000e+10</td>\n",
       "    </tr>\n",
       "    <tr>\n",
       "      <th>35</th>\n",
       "      <td>AMZN</td>\n",
       "      <td>Amazon.com Inc.</td>\n",
       "      <td>6.606000e+10</td>\n",
       "    </tr>\n",
       "    <tr>\n",
       "      <th>428</th>\n",
       "      <td>T</td>\n",
       "      <td>AT&amp;T Inc.</td>\n",
       "      <td>4.419000e+10</td>\n",
       "    </tr>\n",
       "    <tr>\n",
       "      <th>476</th>\n",
       "      <td>VZ</td>\n",
       "      <td>Verizon Communications</td>\n",
       "      <td>4.264000e+10</td>\n",
       "    </tr>\n",
       "    <tr>\n",
       "      <th>70</th>\n",
       "      <td>BRK-B</td>\n",
       "      <td>Berkshire Hathaway</td>\n",
       "      <td>3.977000e+10</td>\n",
       "    </tr>\n",
       "    <tr>\n",
       "      <th>176</th>\n",
       "      <td>FB</td>\n",
       "      <td>Facebook, Inc.</td>\n",
       "      <td>3.875000e+10</td>\n",
       "    </tr>\n",
       "    <tr>\n",
       "      <th>488</th>\n",
       "      <td>WMT</td>\n",
       "      <td>Walmart</td>\n",
       "      <td>3.607000e+10</td>\n",
       "    </tr>\n",
       "  </tbody>\n",
       "</table>\n",
       "</div>"
      ],
      "text/plain": [
       "    Symbol                 Security  Total Cash (mrq) number\n",
       "3     AAPL               Apple Inc.             7.322000e+10\n",
       "202   GOOG  Alphabet Inc. (Class C)             7.296000e+10\n",
       "203  GOOGL  Alphabet Inc. (Class A)             7.296000e+10\n",
       "318   MSFT          Microsoft Corp.             7.270000e+10\n",
       "35    AMZN          Amazon.com Inc.             6.606000e+10\n",
       "428      T                AT&T Inc.             4.419000e+10\n",
       "476     VZ   Verizon Communications             4.264000e+10\n",
       "70   BRK-B       Berkshire Hathaway             3.977000e+10\n",
       "176     FB           Facebook, Inc.             3.875000e+10\n",
       "488    WMT                  Walmart             3.607000e+10"
      ]
     },
     "execution_count": 166,
     "metadata": {},
     "output_type": "execute_result"
    }
   ],
   "source": [
    "df['Total Cash (mrq) number'] = [money_string_to_number(s) for s in df['Total Cash (mrq)']]\n",
    "Top_10_cash = df.sort_values('Total Cash (mrq) number', ascending = False)[0:10]\n",
    "Top_10_cash = Top_10_cash[['Symbol', 'Security', 'Total Cash (mrq) number']]\n",
    "Top_10_cash"
   ]
  },
  {
   "cell_type": "markdown",
   "metadata": {},
   "source": [
    "### 6d: List the top ten companies according to 'Avg Vol (3 month) number'.\n",
    "\n",
    "Hint: Use money_string_to_number() again to make a new column of floats.\n",
    "\n",
    "Include the 'Symbol', 'Security', and 'Avg Vol (3 month) number' columns in your output."
   ]
  },
  {
   "cell_type": "code",
   "execution_count": 167,
   "metadata": {},
   "outputs": [
    {
     "data": {
      "text/html": [
       "<div>\n",
       "<style scoped>\n",
       "    .dataframe tbody tr th:only-of-type {\n",
       "        vertical-align: middle;\n",
       "    }\n",
       "\n",
       "    .dataframe tbody tr th {\n",
       "        vertical-align: top;\n",
       "    }\n",
       "\n",
       "    .dataframe thead th {\n",
       "        text-align: right;\n",
       "    }\n",
       "</style>\n",
       "<table border=\"1\" class=\"dataframe\">\n",
       "  <thead>\n",
       "    <tr style=\"text-align: right;\">\n",
       "      <th></th>\n",
       "      <th>Symbol</th>\n",
       "      <th>Security</th>\n",
       "      <th>Avg Vol (3 month) number</th>\n",
       "    </tr>\n",
       "  </thead>\n",
       "  <tbody>\n",
       "    <tr>\n",
       "      <th>66</th>\n",
       "      <td>BLK</td>\n",
       "      <td>BlackRock</td>\n",
       "      <td>16.52</td>\n",
       "    </tr>\n",
       "    <tr>\n",
       "      <th>49</th>\n",
       "      <td>AVGO</td>\n",
       "      <td>Broadcom Inc.</td>\n",
       "      <td>14.40</td>\n",
       "    </tr>\n",
       "    <tr>\n",
       "      <th>160</th>\n",
       "      <td>EQIX</td>\n",
       "      <td>Equinix</td>\n",
       "      <td>11.48</td>\n",
       "    </tr>\n",
       "    <tr>\n",
       "      <th>280</th>\n",
       "      <td>LMT</td>\n",
       "      <td>Lockheed Martin Corp.</td>\n",
       "      <td>10.40</td>\n",
       "    </tr>\n",
       "    <tr>\n",
       "      <th>163</th>\n",
       "      <td>ESS</td>\n",
       "      <td>Essex Property Trust, Inc.</td>\n",
       "      <td>8.36</td>\n",
       "    </tr>\n",
       "    <tr>\n",
       "      <th>381</th>\n",
       "      <td>PSA</td>\n",
       "      <td>Public Storage</td>\n",
       "      <td>8.00</td>\n",
       "    </tr>\n",
       "    <tr>\n",
       "      <th>32</th>\n",
       "      <td>AMGN</td>\n",
       "      <td>Amgen Inc.</td>\n",
       "      <td>7.04</td>\n",
       "    </tr>\n",
       "    <tr>\n",
       "      <th>215</th>\n",
       "      <td>HD</td>\n",
       "      <td>Home Depot</td>\n",
       "      <td>6.60</td>\n",
       "    </tr>\n",
       "    <tr>\n",
       "      <th>231</th>\n",
       "      <td>IBM</td>\n",
       "      <td>International Business Machines</td>\n",
       "      <td>6.56</td>\n",
       "    </tr>\n",
       "    <tr>\n",
       "      <th>48</th>\n",
       "      <td>AVB</td>\n",
       "      <td>AvalonBay Communities</td>\n",
       "      <td>6.36</td>\n",
       "    </tr>\n",
       "  </tbody>\n",
       "</table>\n",
       "</div>"
      ],
      "text/plain": [
       "    Symbol                         Security  Avg Vol (3 month) number\n",
       "66     BLK                        BlackRock                     16.52\n",
       "49    AVGO                    Broadcom Inc.                     14.40\n",
       "160   EQIX                          Equinix                     11.48\n",
       "280    LMT            Lockheed Martin Corp.                     10.40\n",
       "163    ESS       Essex Property Trust, Inc.                      8.36\n",
       "381    PSA                   Public Storage                      8.00\n",
       "32    AMGN                       Amgen Inc.                      7.04\n",
       "215     HD                       Home Depot                      6.60\n",
       "231    IBM  International Business Machines                      6.56\n",
       "48     AVB            AvalonBay Communities                      6.36"
      ]
     },
     "execution_count": 167,
     "metadata": {},
     "output_type": "execute_result"
    }
   ],
   "source": [
    "df['Avg Vol (3 month) number'] = [money_string_to_number(s) for s in df['Avg Vol (3 month)']]\n",
    "Top_10_vol = df.sort_values('Avg Vol (3 month) number', ascending = False)[0:10]\n",
    "Top_10_vol = Top_10_vol[['Symbol', 'Security', 'Avg Vol (3 month) number']]\n",
    "Top_10_vol"
   ]
  },
  {
   "cell_type": "markdown",
   "metadata": {},
   "source": [
    "### 6e: List the top ten companies according to '% Held by Insiders 1 number'.\n",
    "\n",
    "Hint: To sort by number and not by string, first create a new column\n",
    "'% Held by Insiders 1 number' from '% Held by Insiders 1' by converting\n",
    "to string, stripping the '%' from a string like '1.23%' and then\n",
    "converting to float.\n",
    "\n",
    "Include the 'Symbol', 'Security', and '% Held by Insiders 1 number' columns in your output."
   ]
  },
  {
   "cell_type": "code",
   "execution_count": 172,
   "metadata": {},
   "outputs": [],
   "source": [
    "def money_string_to_number_2(s):\n",
    "    s=str(s)\n",
    "    s=s.replace('%','')\n",
    "    s=s.replace('T','e12')\n",
    "    s=s.replace('B','e9')\n",
    "    s=s.replace('M','e6')\n",
    "    s=s.replace('k','e3')\n",
    "    s=s.replace(',','')\n",
    "    s=float(s)\n",
    "    return s"
   ]
  },
  {
   "cell_type": "code",
   "execution_count": 173,
   "metadata": {},
   "outputs": [
    {
     "data": {
      "text/html": [
       "<div>\n",
       "<style scoped>\n",
       "    .dataframe tbody tr th:only-of-type {\n",
       "        vertical-align: middle;\n",
       "    }\n",
       "\n",
       "    .dataframe tbody tr th {\n",
       "        vertical-align: top;\n",
       "    }\n",
       "\n",
       "    .dataframe thead th {\n",
       "        text-align: right;\n",
       "    }\n",
       "</style>\n",
       "<table border=\"1\" class=\"dataframe\">\n",
       "  <thead>\n",
       "    <tr style=\"text-align: right;\">\n",
       "      <th></th>\n",
       "      <th>Symbol</th>\n",
       "      <th>Security</th>\n",
       "      <th>% Held by Insiders 1 number</th>\n",
       "    </tr>\n",
       "  </thead>\n",
       "  <tbody>\n",
       "    <tr>\n",
       "      <th>196</th>\n",
       "      <td>GILD</td>\n",
       "      <td>Gilead Sciences</td>\n",
       "      <td>2720.00</td>\n",
       "    </tr>\n",
       "    <tr>\n",
       "      <th>16</th>\n",
       "      <td>AES</td>\n",
       "      <td>AES Corp</td>\n",
       "      <td>955.33</td>\n",
       "    </tr>\n",
       "    <tr>\n",
       "      <th>487</th>\n",
       "      <td>WMB</td>\n",
       "      <td>Williams Companies</td>\n",
       "      <td>941.18</td>\n",
       "    </tr>\n",
       "    <tr>\n",
       "      <th>392</th>\n",
       "      <td>REG</td>\n",
       "      <td>Regency Centers Corporation</td>\n",
       "      <td>915.38</td>\n",
       "    </tr>\n",
       "    <tr>\n",
       "      <th>456</th>\n",
       "      <td>UDR</td>\n",
       "      <td>UDR, Inc.</td>\n",
       "      <td>720.00</td>\n",
       "    </tr>\n",
       "    <tr>\n",
       "      <th>182</th>\n",
       "      <td>FIS</td>\n",
       "      <td>Fidelity National Information Services</td>\n",
       "      <td>560.00</td>\n",
       "    </tr>\n",
       "    <tr>\n",
       "      <th>261</th>\n",
       "      <td>KHC</td>\n",
       "      <td>Kraft Heinz Co</td>\n",
       "      <td>551.72</td>\n",
       "    </tr>\n",
       "    <tr>\n",
       "      <th>359</th>\n",
       "      <td>PEAK</td>\n",
       "      <td>Healthpeak Properties</td>\n",
       "      <td>548.15</td>\n",
       "    </tr>\n",
       "    <tr>\n",
       "      <th>136</th>\n",
       "      <td>DLR</td>\n",
       "      <td>Digital Realty Trust Inc</td>\n",
       "      <td>448.00</td>\n",
       "    </tr>\n",
       "    <tr>\n",
       "      <th>437</th>\n",
       "      <td>TJX</td>\n",
       "      <td>TJX Companies Inc.</td>\n",
       "      <td>328.57</td>\n",
       "    </tr>\n",
       "  </tbody>\n",
       "</table>\n",
       "</div>"
      ],
      "text/plain": [
       "    Symbol                                Security  \\\n",
       "196   GILD                         Gilead Sciences   \n",
       "16     AES                                AES Corp   \n",
       "487    WMB                      Williams Companies   \n",
       "392    REG             Regency Centers Corporation   \n",
       "456    UDR                               UDR, Inc.   \n",
       "182    FIS  Fidelity National Information Services   \n",
       "261    KHC                          Kraft Heinz Co   \n",
       "359   PEAK                   Healthpeak Properties   \n",
       "136    DLR                Digital Realty Trust Inc   \n",
       "437    TJX                      TJX Companies Inc.   \n",
       "\n",
       "     % Held by Insiders 1 number  \n",
       "196                      2720.00  \n",
       "16                        955.33  \n",
       "487                       941.18  \n",
       "392                       915.38  \n",
       "456                       720.00  \n",
       "182                       560.00  \n",
       "261                       551.72  \n",
       "359                       548.15  \n",
       "136                       448.00  \n",
       "437                       328.57  "
      ]
     },
     "execution_count": 173,
     "metadata": {},
     "output_type": "execute_result"
    }
   ],
   "source": [
    "df['% Held by Insiders 1 number'] = [money_string_to_number_2(s) for s in df['% Held by Insiders 1']]\n",
    "Top_10_percent_held = df.sort_values('% Held by Insiders 1 number', ascending = False)[0:10]\n",
    "Top_10_percent_held = Top_10_percent_held[['Symbol', 'Security', '% Held by Insiders 1 number']]\n",
    "Top_10_percent_held"
   ]
  },
  {
   "cell_type": "markdown",
   "metadata": {},
   "source": [
    "### 6f: List the top ten companies according to 'Beta (5Y Monthly) number'.\n",
    "\n",
    "Hint: Use money_string_to_number() again to make a new column of floats.\n",
    "\n",
    "Include the 'Symbol', 'Security', and 'Beta (5Y Monthly) number' columns in your output."
   ]
  },
  {
   "cell_type": "code",
   "execution_count": 176,
   "metadata": {},
   "outputs": [
    {
     "data": {
      "text/html": [
       "<div>\n",
       "<style scoped>\n",
       "    .dataframe tbody tr th:only-of-type {\n",
       "        vertical-align: middle;\n",
       "    }\n",
       "\n",
       "    .dataframe tbody tr th {\n",
       "        vertical-align: top;\n",
       "    }\n",
       "\n",
       "    .dataframe thead th {\n",
       "        text-align: right;\n",
       "    }\n",
       "</style>\n",
       "<table border=\"1\" class=\"dataframe\">\n",
       "  <thead>\n",
       "    <tr style=\"text-align: right;\">\n",
       "      <th></th>\n",
       "      <th>Symbol</th>\n",
       "      <th>Security</th>\n",
       "      <th>Beta (5Y Monthly) number</th>\n",
       "    </tr>\n",
       "  </thead>\n",
       "  <tbody>\n",
       "    <tr>\n",
       "      <th>41</th>\n",
       "      <td>APA</td>\n",
       "      <td>APA Corporation</td>\n",
       "      <td>4.96</td>\n",
       "    </tr>\n",
       "    <tr>\n",
       "      <th>146</th>\n",
       "      <td>DVN</td>\n",
       "      <td>Devon Energy</td>\n",
       "      <td>3.35</td>\n",
       "    </tr>\n",
       "    <tr>\n",
       "      <th>315</th>\n",
       "      <td>MRO</td>\n",
       "      <td>Marathon Oil Corp.</td>\n",
       "      <td>3.24</td>\n",
       "    </tr>\n",
       "    <tr>\n",
       "      <th>122</th>\n",
       "      <td>CZR</td>\n",
       "      <td>Caesars Entertainment</td>\n",
       "      <td>3.20</td>\n",
       "    </tr>\n",
       "    <tr>\n",
       "      <th>210</th>\n",
       "      <td>HAL</td>\n",
       "      <td>Halliburton Co.</td>\n",
       "      <td>2.92</td>\n",
       "    </tr>\n",
       "    <tr>\n",
       "      <th>390</th>\n",
       "      <td>RCL</td>\n",
       "      <td>Royal Caribbean Group</td>\n",
       "      <td>2.90</td>\n",
       "    </tr>\n",
       "    <tr>\n",
       "      <th>324</th>\n",
       "      <td>NCLH</td>\n",
       "      <td>Norwegian Cruise Line Holdings</td>\n",
       "      <td>2.88</td>\n",
       "    </tr>\n",
       "    <tr>\n",
       "      <th>174</th>\n",
       "      <td>FANG</td>\n",
       "      <td>Diamondback Energy</td>\n",
       "      <td>2.74</td>\n",
       "    </tr>\n",
       "    <tr>\n",
       "      <th>361</th>\n",
       "      <td>PENN</td>\n",
       "      <td>Penn National Gaming</td>\n",
       "      <td>2.68</td>\n",
       "    </tr>\n",
       "    <tr>\n",
       "      <th>354</th>\n",
       "      <td>OXY</td>\n",
       "      <td>Occidental Petroleum</td>\n",
       "      <td>2.53</td>\n",
       "    </tr>\n",
       "  </tbody>\n",
       "</table>\n",
       "</div>"
      ],
      "text/plain": [
       "    Symbol                        Security  Beta (5Y Monthly) number\n",
       "41     APA                 APA Corporation                      4.96\n",
       "146    DVN                    Devon Energy                      3.35\n",
       "315    MRO              Marathon Oil Corp.                      3.24\n",
       "122    CZR           Caesars Entertainment                      3.20\n",
       "210    HAL                 Halliburton Co.                      2.92\n",
       "390    RCL           Royal Caribbean Group                      2.90\n",
       "324   NCLH  Norwegian Cruise Line Holdings                      2.88\n",
       "174   FANG              Diamondback Energy                      2.74\n",
       "361   PENN            Penn National Gaming                      2.68\n",
       "354    OXY            Occidental Petroleum                      2.53"
      ]
     },
     "execution_count": 176,
     "metadata": {},
     "output_type": "execute_result"
    }
   ],
   "source": [
    "df['Beta (5Y Monthly) number'] = [money_string_to_number(s) for s in df['Beta (5Y Monthly)]']]\n",
    "Top_10_beta = df.sort_values('Beta (5Y Monthly) number', ascending = False)[0:10]\n",
    "Top_10_beta = Top_10_beta[['Symbol', 'Security', 'Beta (5Y Monthly) number']]\n",
    "Top_10_beta"
   ]
  },
  {
   "cell_type": "markdown",
   "metadata": {},
   "source": [
    "### 6g: Make a histogram of the values of 'Beta (5Y Monthly)'."
   ]
  },
  {
   "cell_type": "code",
   "execution_count": 192,
   "metadata": {},
   "outputs": [
    {
     "data": {
      "text/plain": [
       "<PandasArray>\n",
       "[1.01, 1.93, 1.36, 1.29, 0.81, 0.54, 1.31,  0.7,  1.1, 0.95,\n",
       " ...\n",
       " 0.29, 1.03, 1.41, 0.93, 1.03, 1.02, 1.33, 1.63, 1.59, 0.62]\n",
       "Length: 505, dtype: float64"
      ]
     },
     "execution_count": 192,
     "metadata": {},
     "output_type": "execute_result"
    }
   ],
   "source": [
    "beta = df['Beta (5Y Monthly) number'].array\n",
    "beta"
   ]
  },
  {
   "cell_type": "code",
   "execution_count": 201,
   "metadata": {},
   "outputs": [
    {
     "data": {
      "image/png": "[encoded data removed]",
      "text/plain": [
       "<Figure size 432x288 with 1 Axes>"
      ]
     },
     "metadata": {
      "needs_background": "light"
     },
     "output_type": "display_data"
    }
   ],
   "source": [
    "plt.hist(beta, bins=20, density=True)\n",
    "plt.title('Beta 5Y monthly')\n",
    "plt.xlabel('beta')\n",
    "plt.show()"
   ]
  },
  {
   "cell_type": "markdown",
   "metadata": {},
   "source": [
    "### 6h: Find the average value of 'Beta (5Y Monthly) number'."
   ]
  },
  {
   "cell_type": "code",
   "execution_count": 209,
   "metadata": {},
   "outputs": [
    {
     "name": "stdout",
     "output_type": "stream",
     "text": [
      " The average value of beata 5Y monthly is 1.1319076305220885\n"
     ]
    }
   ],
   "source": [
    "print(f' The average value of beata 5Y monthly is {beta.mean()}')"
   ]
  },
  {
   "cell_type": "markdown",
   "metadata": {},
   "source": [
    "### 6i Display the only company with a negative value for 'Beta (5Y Monthly) number '.\n",
    "Answer by giving its value for 'Security'."
   ]
  },
  {
   "cell_type": "code",
   "execution_count": 233,
   "metadata": {},
   "outputs": [
    {
     "data": {
      "text/plain": [
       "'Hormel Foods Corp.'"
      ]
     },
     "execution_count": 233,
     "metadata": {},
     "output_type": "execute_result"
    }
   ],
   "source": [
    "beta_sorted = df.sort_values(by=['Beta (5Y Monthly) number'], axis=0, ascending=True)\n",
    "beta_sorted.iloc[0,1]"
   ]
  },
  {
   "cell_type": "markdown",
   "metadata": {},
   "source": [
    "### 6j: Make a barplot of 'Headquarters Location' (by city).\n",
    "Show the number of companies in each of the top ten cities."
   ]
  },
  {
   "cell_type": "code",
   "execution_count": 296,
   "metadata": {},
   "outputs": [],
   "source": [
    "city=[]\n",
    "for i in range(len(df['Headquarters Location'])):\n",
    "    city.append(re.sub(pattern='(.*)\\, .*',repl='\\\\1',string=df['Headquarters Location'][i] ))"
   ]
  },
  {
   "cell_type": "code",
   "execution_count": 299,
   "metadata": {},
   "outputs": [
    {
     "data": {
      "image/png": "[encoded data removed]",
      "text/plain": [
       "<Figure size 432x288 with 1 Axes>"
      ]
     },
     "metadata": {
      "needs_background": "light"
     },
     "output_type": "display_data"
    }
   ],
   "source": [
    "city_hq = pd.DataFrame(city)\n",
    "city_hq = city_hq.rename(columns={0:'city'})\n",
    "city_hq['count']=0\n",
    "city_hq = city_hq.groupby('city').count().sort_values('count',ascending=False)[0:10]\n",
    "plt.bar(city_hq.index, city_hq['count'])\n",
    "plt.xticks(rotation=90)\n",
    "plt.title('number of headquarters in top 10 cities')\n",
    "plt.show()"
   ]
  },
  {
   "cell_type": "markdown",
   "metadata": {},
   "source": [
    "### 6k: Make a barplot of 'Headquarters Location' by state.\n",
    "Show the number of companies in each of the top ten states.\n",
    "\n",
    "Hint: Use a regular expression to strip the city from 'Headquarters Location'\n",
    "to get the state."
   ]
  },
  {
   "cell_type": "code",
   "execution_count": 261,
   "metadata": {},
   "outputs": [],
   "source": [
    "state=[]\n",
    "for i in range(len(df['Headquarters Location'])):\n",
    "    state.append(re.sub(pattern='.*\\, (.*)',repl='\\\\1',string=df['Headquarters Location'][i] ))"
   ]
  },
  {
   "cell_type": "code",
   "execution_count": 298,
   "metadata": {},
   "outputs": [
    {
     "data": {
      "image/png": "[encoded data removed]",
      "text/plain": [
       "<Figure size 432x288 with 1 Axes>"
      ]
     },
     "metadata": {
      "needs_background": "light"
     },
     "output_type": "display_data"
    }
   ],
   "source": [
    "state_hq = pd.DataFrame(state)\n",
    "state_hq = state_hq.rename(columns={0:'state'})\n",
    "state_hq['count']=0\n",
    "state_hq = state_hq.groupby('state').count().sort_values('count',ascending=False)[0:10]\n",
    "plt.bar(state_hq.index, state_hq['count'])\n",
    "plt.xticks(rotation=90)\n",
    "plt.title('number of headquarters in top 10 states')\n",
    "plt.show()"
   ]
  }
 ],
 "metadata": {
  "kernelspec": {
   "display_name": "Python 3",
   "language": "python",
   "name": "python3"
  },
  "language_info": {
   "codemirror_mode": {
    "name": "ipython",
    "version": 3
   },
   "file_extension": ".py",
   "mimetype": "text/x-python",
   "name": "python",
   "nbconvert_exporter": "python",
   "pygments_lexer": "ipython3",
   "version": "3.8.5"
  }
 },
 "nbformat": 4,
 "nbformat_minor": 4
}
